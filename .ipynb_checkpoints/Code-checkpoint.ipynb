{
 "cells": [
  {
   "cell_type": "markdown",
   "id": "7346a874",
   "metadata": {},
   "source": [
    "### Preprocessing"
   ]
  },
  {
   "cell_type": "code",
   "execution_count": 26,
   "id": "4256acce",
   "metadata": {},
   "outputs": [],
   "source": [
    "import numpy as np\n",
    "import spacy \n",
    "\n",
    "def preprocessing(text_raw):\n",
    "    \n",
    "    nlp = spacy.load('es_core_news_sm')\n",
    "    \n",
    "    doc = nlp(text_raw)\n",
    "\n",
    "    # Convertir a minúsculas, eliminar signos de puntuación y números\n",
    "    \n",
    "    preprocessed_tokens = [token.lower() for token in doc if token.is_alpha and not token.is_stop]\n",
    "    \n",
    "    return preprocessed_tokens"
   ]
  },
  {
   "cell_type": "code",
   "execution_count": 27,
   "id": "70c4d5cf",
   "metadata": {},
   "outputs": [],
   "source": [
    "import docx\n",
    "\n",
    "def read_docx(file_path):\n",
    "    doc = docx.Document(file_path)\n",
    "    content = []\n",
    "\n",
    "    for paragraph in doc.paragraphs:\n",
    "        content.append(paragraph.text)\n",
    "\n",
    "    return '\\n'.join(content)"
   ]
  },
  {
   "cell_type": "code",
   "execution_count": 28,
   "id": "b4a0ead9",
   "metadata": {},
   "outputs": [],
   "source": [
    "import os\n",
    "\n",
    "# Rutas a los archivos DOCX\n",
    "ruta_base = 'Datos'\n",
    "doc_files = [\n",
    "    'doc01.docx', 'doc02.docx', 'doc03.docx', 'doc04.docx', 'doc05.docx',\n",
    "    'doc06.docx', 'doc07.docx', 'doc08.docx', 'doc09.docx', 'doc10.docx',\n",
    "    'doc11.docx', 'doc12.docx'\n",
    "]\n",
    "\n",
    "# Leer los documentos y almacenar en una lista\n",
    "docs = []\n",
    "for doc_file in doc_files:\n",
    "    doc_path = os.path.join(ruta_base, doc_file)\n",
    "    doc_content = read_docx(doc_path)\n",
    "    docs.append(doc_content)"
   ]
  },
  {
   "cell_type": "code",
   "execution_count": 29,
   "id": "818f4464",
   "metadata": {},
   "outputs": [
    {
     "name": "stdout",
     "output_type": "stream",
     "text": [
      "Nuevo smartphone de alta gama promete revolucionar el mercado\n",
      "\n",
      "Hoy se anunció el lanzamiento del último smartphone de la reconocida marca Tecnophone. Este nuevo dispositivo, denominado Tecnophone XZ, promete características sobresalientes que seguramente causarán revuelo en la industria móvil. Incorpora una pantalla OLED de 6.7 pulgadas, un procesador de última generación y una memoria RAM de 12 GB. Además, para los amantes de la fotografía, el Tecnophone XZ posee una cámara triple con una resolución de 108 megapíxeles. Los expertos ya lo han calificado como el \"móvil del año\" y esperan ver su impacto en el mercado en los próximos meses.\n",
      "\n"
     ]
    },
    {
     "ename": "TypeError",
     "evalue": "'int' object is not callable",
     "output_type": "error",
     "traceback": [
      "\u001b[0;31m---------------------------------------------------------------------------\u001b[0m",
      "\u001b[0;31mTypeError\u001b[0m                                 Traceback (most recent call last)",
      "Cell \u001b[0;32mIn[29], line 2\u001b[0m\n\u001b[1;32m      1\u001b[0m \u001b[38;5;28mprint\u001b[39m(docs[\u001b[38;5;241m0\u001b[39m])\n\u001b[0;32m----> 2\u001b[0m \u001b[38;5;28mprint\u001b[39m(preprocessing(docs[\u001b[38;5;241m0\u001b[39m]))\n",
      "Cell \u001b[0;32mIn[26], line 12\u001b[0m, in \u001b[0;36mpreprocessing\u001b[0;34m(text_raw)\u001b[0m\n\u001b[1;32m      8\u001b[0m doc \u001b[38;5;241m=\u001b[39m nlp(text_raw)\n\u001b[1;32m     10\u001b[0m \u001b[38;5;66;03m# Convertir a minúsculas, eliminar signos de puntuación y números\u001b[39;00m\n\u001b[0;32m---> 12\u001b[0m preprocessed_tokens \u001b[38;5;241m=\u001b[39m [token\u001b[38;5;241m.\u001b[39mlower() \u001b[38;5;28;01mfor\u001b[39;00m token \u001b[38;5;129;01min\u001b[39;00m doc\n\u001b[1;32m     13\u001b[0m                        \u001b[38;5;28;01mif\u001b[39;00m token\u001b[38;5;241m.\u001b[39mis_alpha \u001b[38;5;129;01mand\u001b[39;00m \u001b[38;5;129;01mnot\u001b[39;00m token\u001b[38;5;241m.\u001b[39mis_stop]\n\u001b[1;32m     15\u001b[0m \u001b[38;5;28;01mreturn\u001b[39;00m preprocessed_tokens\n",
      "Cell \u001b[0;32mIn[26], line 12\u001b[0m, in \u001b[0;36m<listcomp>\u001b[0;34m(.0)\u001b[0m\n\u001b[1;32m      8\u001b[0m doc \u001b[38;5;241m=\u001b[39m nlp(text_raw)\n\u001b[1;32m     10\u001b[0m \u001b[38;5;66;03m# Convertir a minúsculas, eliminar signos de puntuación y números\u001b[39;00m\n\u001b[0;32m---> 12\u001b[0m preprocessed_tokens \u001b[38;5;241m=\u001b[39m [token\u001b[38;5;241m.\u001b[39mlower() \u001b[38;5;28;01mfor\u001b[39;00m token \u001b[38;5;129;01min\u001b[39;00m doc\n\u001b[1;32m     13\u001b[0m                        \u001b[38;5;28;01mif\u001b[39;00m token\u001b[38;5;241m.\u001b[39mis_alpha \u001b[38;5;129;01mand\u001b[39;00m \u001b[38;5;129;01mnot\u001b[39;00m token\u001b[38;5;241m.\u001b[39mis_stop]\n\u001b[1;32m     15\u001b[0m \u001b[38;5;28;01mreturn\u001b[39;00m preprocessed_tokens\n",
      "\u001b[0;31mTypeError\u001b[0m: 'int' object is not callable"
     ]
    }
   ],
   "source": [
    "print(docs[0])\n",
    "print(preprocessing(docs[0]))"
   ]
  },
  {
   "cell_type": "code",
   "execution_count": null,
   "id": "a74b9137",
   "metadata": {},
   "outputs": [],
   "source": [
    "--------------------------------------------------------------------------------------------------------------------"
   ]
  },
  {
   "cell_type": "code",
   "execution_count": null,
   "id": "7018e495",
   "metadata": {},
   "outputs": [],
   "source": []
  }
 ],
 "metadata": {
  "kernelspec": {
   "display_name": "Python 3 (ipykernel)",
   "language": "python",
   "name": "python3"
  },
  "language_info": {
   "codemirror_mode": {
    "name": "ipython",
    "version": 3
   },
   "file_extension": ".py",
   "mimetype": "text/x-python",
   "name": "python",
   "nbconvert_exporter": "python",
   "pygments_lexer": "ipython3",
   "version": "3.11.5"
  }
 },
 "nbformat": 4,
 "nbformat_minor": 5
}
