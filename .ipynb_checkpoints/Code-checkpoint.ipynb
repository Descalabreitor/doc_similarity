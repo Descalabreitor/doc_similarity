{
 "cells": [
  {
   "cell_type": "markdown",
   "id": "7346a874",
   "metadata": {},
   "source": [
    "### Preprocessing"
   ]
  },
  {
   "cell_type": "code",
   "execution_count": 71,
   "id": "4256acce",
   "metadata": {},
   "outputs": [],
   "source": [
    "import numpy as np\n",
    "import spacy \n",
    "\n",
    "def preprocessing(text_raw):\n",
    "    \n",
    "    nlp = spacy.load('es_core_news_sm')\n",
    "    \n",
    "    doc = nlp(text_raw)\n",
    "\n",
    "    # Convertir a minúsculas, eliminar signos de puntuación y números\n",
    "    \n",
    "    preprocessed_tokens = []\n",
    "    for token in doc:\n",
    "        str(token).lower().strip()\n",
    "        if token.is_alpha and not token.is_stop:\n",
    "            preprocessed_tokens.append(token)\n",
    "    \n",
    "    # Unir las palabras preprocesadas en un solo texto\n",
    "    preprocessed_text = ' '.join(preprocessed_tokens)\n",
    "    \n",
    "    return preprocessed_text"
   ]
  },
  {
   "cell_type": "code",
   "execution_count": 72,
   "id": "736ccdb8",
   "metadata": {},
   "outputs": [],
   "source": [
    "import docx\n",
    "\n",
    "def read_docx(file_path):\n",
    "    doc = docx.Document(file_path)\n",
    "    content = []\n",
    "\n",
    "    for paragraph in doc.paragraphs:\n",
    "        content.append(paragraph.text)\n",
    "\n",
    "    return '\\n'.join(content)"
   ]
  },
  {
   "cell_type": "code",
   "execution_count": 73,
   "id": "c3ac7c23",
   "metadata": {},
   "outputs": [],
   "source": [
    "import os\n",
    "\n",
    "# Rutas a los archivos DOCX\n",
    "ruta_base = 'Datos'\n",
    "doc_files = [\n",
    "    'doc01.docx', 'doc02.docx', 'doc03.docx', 'doc04.docx', 'doc05.docx',\n",
    "    'doc06.docx', 'doc07.docx', 'doc08.docx', 'doc09.docx', 'doc10.docx',\n",
    "    'doc11.docx', 'doc12.docx'\n",
    "]\n",
    "\n",
    "# Leer los documentos y almacenar en una lista\n",
    "docs = []\n",
    "for doc_file in doc_files:\n",
    "    doc_path = os.path.join(ruta_base, doc_file)\n",
    "    doc_content = read_docx(doc_path)\n",
    "    docs.append(doc_content)"
   ]
  },
  {
   "cell_type": "code",
   "execution_count": 74,
   "id": "832cda9a",
   "metadata": {
    "scrolled": true
   },
   "outputs": [
    {
     "ename": "TypeError",
     "evalue": "sequence item 0: expected str instance, spacy.tokens.token.Token found",
     "output_type": "error",
     "traceback": [
      "\u001b[0;31m---------------------------------------------------------------------------\u001b[0m",
      "\u001b[0;31mTypeError\u001b[0m                                 Traceback (most recent call last)",
      "Cell \u001b[0;32mIn[74], line 3\u001b[0m\n\u001b[1;32m      1\u001b[0m pre_docs \u001b[38;5;241m=\u001b[39m []\n\u001b[1;32m      2\u001b[0m \u001b[38;5;28;01mfor\u001b[39;00m doc \u001b[38;5;129;01min\u001b[39;00m docs:\n\u001b[0;32m----> 3\u001b[0m     pre_docs\u001b[38;5;241m.\u001b[39mappend(preprocessing(doc))\n\u001b[1;32m      5\u001b[0m all_docs \u001b[38;5;241m=\u001b[39m \u001b[38;5;124m'\u001b[39m\u001b[38;5;124m \u001b[39m\u001b[38;5;124m'\u001b[39m\u001b[38;5;241m.\u001b[39mjoin(pre_docs)\n",
      "Cell \u001b[0;32mIn[67], line 19\u001b[0m, in \u001b[0;36mpreprocessing\u001b[0;34m(text_raw)\u001b[0m\n\u001b[1;32m     16\u001b[0m         preprocessed_tokens\u001b[38;5;241m.\u001b[39mappend(token)\n\u001b[1;32m     18\u001b[0m \u001b[38;5;66;03m# Unir las palabras preprocesadas en un solo texto\u001b[39;00m\n\u001b[0;32m---> 19\u001b[0m preprocessed_text \u001b[38;5;241m=\u001b[39m \u001b[38;5;124m'\u001b[39m\u001b[38;5;124m \u001b[39m\u001b[38;5;124m'\u001b[39m\u001b[38;5;241m.\u001b[39mjoin(preprocessed_tokens)\n\u001b[1;32m     21\u001b[0m \u001b[38;5;28;01mreturn\u001b[39;00m preprocessed_text\n",
      "\u001b[0;31mTypeError\u001b[0m: sequence item 0: expected str instance, spacy.tokens.token.Token found"
     ]
    }
   ],
   "source": [
    "pre_docs = []\n",
    "for doc in docs:\n",
    "    pre_docs.append(preprocessing(doc))\n",
    "\n",
    "all_docs = ' '.join(pre_docs)"
   ]
  },
  {
   "cell_type": "code",
   "execution_count": null,
   "id": "a74b9137",
   "metadata": {},
   "outputs": [],
   "source": [
    "--------------------------------------------------------------------------------------------------------------------"
   ]
  },
  {
   "cell_type": "code",
   "execution_count": null,
   "id": "7018e495",
   "metadata": {},
   "outputs": [],
   "source": []
  }
 ],
 "metadata": {
  "kernelspec": {
   "display_name": "Python 3 (ipykernel)",
   "language": "python",
   "name": "python3"
  },
  "language_info": {
   "codemirror_mode": {
    "name": "ipython",
    "version": 3
   },
   "file_extension": ".py",
   "mimetype": "text/x-python",
   "name": "python",
   "nbconvert_exporter": "python",
   "pygments_lexer": "ipython3",
   "version": "3.11.5"
  }
 },
 "nbformat": 4,
 "nbformat_minor": 5
}
