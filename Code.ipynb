{
 "cells": [
  {
   "cell_type": "markdown",
   "id": "7346a874",
   "metadata": {},
   "source": [
    "### Preprocessing"
   ]
  },
  {
   "cell_type": "code",
   "execution_count": 41,
   "id": "4256acce",
   "metadata": {},
   "outputs": [],
   "source": [
    "import numpy as np\n",
    "import spacy \n",
    "\n",
    "def preprocessing(text_raw):\n",
    "    \n",
    "    nlp = spacy.load('es_core_news_sm')\n",
    "    \n",
    "    doc = nlp(text_raw)\n",
    "\n",
    "    # Convertir a minúsculas, eliminar signos de puntuación y números\n",
    "    \n",
    "    preprocessed_tokens = []\n",
    "    for token in doc:\n",
    "        str(token).lower()\n",
    "        if token.is_alpha and not token.is_stop:\n",
    "            preprocessed_tokens.append(token)\n",
    "    \n",
    "    return preprocessed_tokens"
   ]
  },
  {
   "cell_type": "code",
   "execution_count": 42,
   "id": "7796e1c0",
   "metadata": {},
   "outputs": [],
   "source": [
    "import docx\n",
    "\n",
    "def read_docx(file_path):\n",
    "    doc = docx.Document(file_path)\n",
    "    content = []\n",
    "\n",
    "    for paragraph in doc.paragraphs:\n",
    "        content.append(paragraph.text)\n",
    "\n",
    "    return '\\n'.join(content)"
   ]
  },
  {
   "cell_type": "code",
   "execution_count": 43,
   "id": "6a815053",
   "metadata": {},
   "outputs": [],
   "source": [
    "import os\n",
    "\n",
    "# Rutas a los archivos DOCX\n",
    "ruta_base = 'Datos'\n",
    "doc_files = [\n",
    "    'doc01.docx', 'doc02.docx', 'doc03.docx', 'doc04.docx', 'doc05.docx',\n",
    "    'doc06.docx', 'doc07.docx', 'doc08.docx', 'doc09.docx', 'doc10.docx',\n",
    "    'doc11.docx', 'doc12.docx'\n",
    "]\n",
    "\n",
    "# Leer los documentos y almacenar en una lista\n",
    "docs = []\n",
    "for doc_file in doc_files:\n",
    "    doc_path = os.path.join(ruta_base, doc_file)\n",
    "    doc_content = read_docx(doc_path)\n",
    "    docs.append(doc_content)"
   ]
  },
  {
   "cell_type": "code",
   "execution_count": 44,
   "id": "5a2e6b42",
   "metadata": {},
   "outputs": [
    {
     "name": "stdout",
     "output_type": "stream",
     "text": [
      "Nuevo smartphone de alta gama promete revolucionar el mercado\n",
      "\n",
      "Hoy se anunció el lanzamiento del último smartphone de la reconocida marca Tecnophone. Este nuevo dispositivo, denominado Tecnophone XZ, promete características sobresalientes que seguramente causarán revuelo en la industria móvil. Incorpora una pantalla OLED de 6.7 pulgadas, un procesador de última generación y una memoria RAM de 12 GB. Además, para los amantes de la fotografía, el Tecnophone XZ posee una cámara triple con una resolución de 108 megapíxeles. Los expertos ya lo han calificado como el \"móvil del año\" y esperan ver su impacto en el mercado en los próximos meses.\n",
      "\n",
      "[smartphone, alta, gama, promete, revolucionar, mercado, anunció, lanzamiento, smartphone, reconocida, marca, Tecnophone, dispositivo, denominado, Tecnophone, XZ, promete, características, sobresalientes, seguramente, causarán, revuelo, industria, móvil, Incorpora, pantalla, OLED, pulgadas, procesador, generación, memoria, RAM, GB, amantes, fotografía, Tecnophone, XZ, posee, cámara, triple, resolución, megapíxeles, expertos, calificado, móvil, año, esperan, impacto, mercado, meses]\n"
     ]
    }
   ],
   "source": [
    "print(docs[0])\n",
    "print(preprocessing(docs[0]))"
   ]
  },
  {
   "cell_type": "code",
   "execution_count": null,
   "id": "a74b9137",
   "metadata": {},
   "outputs": [],
   "source": [
    "--------------------------------------------------------------------------------------------------------------------"
   ]
  },
  {
   "cell_type": "code",
   "execution_count": null,
   "id": "7018e495",
   "metadata": {},
   "outputs": [],
   "source": []
  }
 ],
 "metadata": {
  "kernelspec": {
   "display_name": "Python 3 (ipykernel)",
   "language": "python",
   "name": "python3"
  },
  "language_info": {
   "codemirror_mode": {
    "name": "ipython",
    "version": 3
   },
   "file_extension": ".py",
   "mimetype": "text/x-python",
   "name": "python",
   "nbconvert_exporter": "python",
   "pygments_lexer": "ipython3",
   "version": "3.11.5"
  }
 },
 "nbformat": 4,
 "nbformat_minor": 5
}
