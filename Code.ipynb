{
 "cells": [
  {
   "cell_type": "markdown",
   "id": "7346a874",
   "metadata": {},
   "source": [
    "### Preprocessing"
   ]
  },
  {
   "cell_type": "code",
   "execution_count": 75,
   "id": "4256acce",
   "metadata": {},
   "outputs": [],
   "source": [
    "import numpy as np\n",
    "import spacy \n",
    "\n",
    "def preprocessing(text_raw):\n",
    "    \n",
    "    nlp = spacy.load('es_core_news_sm')\n",
    "    \n",
    "    doc = nlp(text_raw)\n",
    "\n",
    "    # Convertir a minúsculas, eliminar signos de puntuación y números\n",
    "    \n",
    "    preprocessed_tokens = []\n",
    "    for token in doc:\n",
    "        str(token).lower().strip()\n",
    "        if token.is_alpha and not token.is_stop:\n",
    "            preprocessed_tokens.append(str(token))\n",
    "    \n",
    "    # Unir las palabras preprocesadas en un solo texto\n",
    "    preprocessed_text = ' '.join(preprocessed_tokens)\n",
    "    \n",
    "    return preprocessed_text"
   ]
  },
  {
   "cell_type": "code",
   "execution_count": 76,
   "id": "dbf724ec",
   "metadata": {},
   "outputs": [],
   "source": [
    "import docx\n",
    "\n",
    "def read_docx(file_path):\n",
    "    doc = docx.Document(file_path)\n",
    "    content = []\n",
    "\n",
    "    for paragraph in doc.paragraphs:\n",
    "        content.append(paragraph.text)\n",
    "\n",
    "    return '\\n'.join(content)"
   ]
  },
  {
   "cell_type": "code",
   "execution_count": 77,
   "id": "73177c48",
   "metadata": {},
   "outputs": [],
   "source": [
    "import os\n",
    "\n",
    "# Rutas a los archivos DOCX\n",
    "ruta_base = 'Datos'\n",
    "doc_files = [\n",
    "    'doc01.docx', 'doc02.docx', 'doc03.docx', 'doc04.docx', 'doc05.docx',\n",
    "    'doc06.docx', 'doc07.docx', 'doc08.docx', 'doc09.docx', 'doc10.docx',\n",
    "    'doc11.docx', 'doc12.docx'\n",
    "]\n",
    "\n",
    "# Leer los documentos y almacenar en una lista\n",
    "docs = []\n",
    "for doc_file in doc_files:\n",
    "    doc_path = os.path.join(ruta_base, doc_file)\n",
    "    doc_content = read_docx(doc_path)\n",
    "    docs.append(doc_content)"
   ]
  },
  {
   "cell_type": "code",
   "execution_count": 79,
   "id": "fc2eb815",
   "metadata": {
    "scrolled": true
   },
   "outputs": [],
   "source": [
    "pre_docs = []\n",
    "for doc in docs:\n",
    "    pre_docs.append(preprocessing(doc))\n",
    "\n",
    "all_docs = ' '.join(pre_docs)"
   ]
  },
  {
   "cell_type": "code",
   "execution_count": null,
   "id": "7018e495",
   "metadata": {},
   "outputs": [],
   "source": []
  }
 ],
 "metadata": {
  "kernelspec": {
   "display_name": "Python 3 (ipykernel)",
   "language": "python",
   "name": "python3"
  },
  "language_info": {
   "codemirror_mode": {
    "name": "ipython",
    "version": 3
   },
   "file_extension": ".py",
   "mimetype": "text/x-python",
   "name": "python",
   "nbconvert_exporter": "python",
   "pygments_lexer": "ipython3",
   "version": "3.11.5"
  }
 },
 "nbformat": 4,
 "nbformat_minor": 5
}
